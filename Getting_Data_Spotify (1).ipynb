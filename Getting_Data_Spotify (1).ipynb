{
  "nbformat": 4,
  "nbformat_minor": 0,
  "metadata": {
    "colab": {
      "name": "Getting Data : Spotify.ipynb",
      "provenance": [],
      "collapsed_sections": []
    },
    "kernelspec": {
      "display_name": "Python 3",
      "language": "python",
      "name": "python3"
    },
    "language_info": {
      "codemirror_mode": {
        "name": "ipython",
        "version": 3
      },
      "file_extension": ".py",
      "mimetype": "text/x-python",
      "name": "python",
      "nbconvert_exporter": "python",
      "pygments_lexer": "ipython3",
      "version": "3.6.10"
    }
  },
  "cells": [
    {
      "cell_type": "code",
      "metadata": {
        "id": "OIOtsnV2UBfY"
      },
      "source": [
        "!pip install spotipy"
      ],
      "execution_count": null,
      "outputs": []
    },
    {
      "cell_type": "code",
      "metadata": {
        "colab": {
          "background_save": true
        },
        "id": "mL2Iin5KVBuF"
      },
      "source": [
        "import spotipy\n",
        "from spotipy.oauth2 import SpotifyClientCredentials #To accessauthorised Spotify data\n",
        "import requests\n",
        "from bs4 import BeautifulSoup\n",
        "import json\n",
        "import pandas as pd\n",
        "import pickle\n",
        "from collections import deque\n",
        "from queue import Queue\n",
        "import time\n",
        "import concurrent.futures\n",
        "import os.path\n",
        "\n",
        "from google.colab import files\n",
        "uploaded = files.upload()"
      ],
      "execution_count": null,
      "outputs": []
    },
    {
      "cell_type": "code",
      "metadata": {
        "id": "QxU-Vo15gRDG"
      },
      "source": [
        "with open('artists_uri.pkl', 'rb') as f:\n",
        "    names = pickle.load(f)"
      ],
      "execution_count": null,
      "outputs": []
    },
    {
      "cell_type": "code",
      "metadata": {
        "id": "9-hIGoj6WNJV"
      },
      "source": [
        "# Set up Spotify api access and put actual keys\n",
        "client_id = 'client id'\n",
        "client_secret = 'client sceret key'\n",
        "\n",
        "client_credentials_manager = SpotifyClientCredentials(client_id = client_id, client_secret = client_secret)\n",
        "sp =spotipy.Spotify(client_credentials_manager=client_credentials_manager) #spotify object to access API"
      ],
      "execution_count": null,
      "outputs": []
    },
    {
      "cell_type": "code",
      "metadata": {
        "id": "mq9Q1z8BlBTv"
      },
      "source": [
        "uri_dict = {}\n",
        "\n",
        "for artist in names:\n",
        "    result_ = sp.search(art, limit=50) #search query\n",
        "    artists_list = result_['tracks']['items'][0]['artists']\n",
        "    for i in range(len(artists_list)): \n",
        "        uri = (artists_list[i]['uri'])\n",
        "        name = (artists_list[i]['name'])\n",
        "        uri_dict[name] = uri\n"
      ],
      "execution_count": null,
      "outputs": []
    },
    {
      "cell_type": "code",
      "metadata": {
        "id": "Y1AOXXGHnSqJ"
      },
      "source": [
        "artist_uri_df = pd.DataFrame(uri_dict.items(), columns = ['artist_name', 'uri'])"
      ],
      "execution_count": null,
      "outputs": []
    },
    {
      "cell_type": "code",
      "metadata": {
        "id": "N1YFrOs1EWS1"
      },
      "source": [
        "artist_uri_df"
      ],
      "execution_count": null,
      "outputs": []
    },
    {
      "cell_type": "code",
      "metadata": {
        "id": "XEh9hqJKrIAC"
      },
      "source": [
        "uri_list = list(artist_uri_df['uri'])\n",
        "uri_deque = deque(list(artist_uri_df['uri']))\n"
      ],
      "execution_count": null,
      "outputs": []
    },
    {
      "cell_type": "code",
      "metadata": {
        "id": "3taHjJGt4-wO"
      },
      "source": [
        "len(uri_list)"
      ],
      "execution_count": null,
      "outputs": []
    },
    {
      "cell_type": "code",
      "metadata": {
        "id": "-mR2770reabt"
      },
      "source": [
        "def get_related_artists(uri):\n",
        "    related = sp.artist_related_artists(uri)\n",
        "    uris=[]\n",
        "    for i in range(len(related['artists'])):\n",
        "        uris.append(related['artists'][i]['uri'])\n",
        "        #related_artists[name] = uri\n",
        "    return (uris)"
      ],
      "execution_count": null,
      "outputs": []
    },
    {
      "cell_type": "markdown",
      "metadata": {
        "id": "ZiwCTtFk-Ikf"
      },
      "source": [
        "Get \n",
        "List of 10 000 artist uris "
      ]
    },
    {
      "cell_type": "code",
      "metadata": {
        "id": "TObAz730fANU"
      },
      "source": [
        "#get list of 10 000 artist uris by getting related artists recursively\n",
        "t1 = time.perf_counter()\n",
        "while len(uri_list) <= 10_000:\n",
        "    uri = uri_deque.popleft()\n",
        "    returned_uris =  get_related_artists(uri)\n",
        "    (uri_list.extend(returned_uris)) \n",
        "    uri_list = list(set(uri_list))\n",
        "    uri_deque.extend(returned_uris)\n",
        "    print(len(uri_list))\n",
        "    \n",
        "t2 = time.perf_counter()\n",
        "print(f'Process took { t2- t1} seconds to complete.')"
      ],
      "execution_count": null,
      "outputs": []
    },
    {
      "cell_type": "code",
      "metadata": {
        "id": "giBtX8uLaanq"
      },
      "source": [
        "#Save artist uri's in a pickle file\n",
        "\n",
        "with open('full_artists_uri.pkl', 'wb') as f:\n",
        "    pickle.dump(uri_list, f)"
      ],
      "execution_count": null,
      "outputs": []
    },
    {
      "cell_type": "markdown",
      "metadata": {
        "id": "R4NrZa5o_9ow"
      },
      "source": [
        "GET ALBUM URIS"
      ]
    },
    {
      "cell_type": "code",
      "metadata": {
        "id": "fIrF1sDCnM6k"
      },
      "source": [
        "def get_artist_albums(uri):\n",
        "    names=[]\n",
        "    uris=[]\n",
        "    results = sp.artist_albums(uri, album_type='album', country='us')\n",
        "    albums = results['items']\n",
        "    while results['next']:\n",
        "        results = sp.next(results)\n",
        "        albums.extend(results['items'])\n",
        "        \n",
        "    for album in albums:\n",
        "        names.append(album['name'])\n",
        "        uris.append(album['uri'])\n",
        "        #album_artist.append(album[''])\n",
        "        #print(album)\n",
        "    names = list(set(names))\n",
        "    uris = list(set(uris))\n",
        "    return uris"
      ],
      "execution_count": null,
      "outputs": []
    },
    {
      "cell_type": "code",
      "metadata": {
        "id": "hJUdL7WBiwpI"
      },
      "source": [
        "album_uris = []\n",
        "i=0\n",
        "for uri in uri_list:\n",
        "    i +=1 \n",
        "    album_uris.extend(get_artist_albums(uri))\n",
        "    if (i % 100 == 0):\n",
        "        time.sleep(5)\n",
        "        print(i)\n",
        "    else:\n",
        "        continue\n",
        "    \n",
        " "
      ],
      "execution_count": null,
      "outputs": []
    },
    {
      "cell_type": "code",
      "metadata": {
        "id": "vmdcRM3fj3pA"
      },
      "source": [
        "album_uris = list(set(album_uris))\n",
        "print(len(album_uris))"
      ],
      "execution_count": null,
      "outputs": []
    },
    {
      "cell_type": "code",
      "metadata": {
        "id": "l5L5h5Vjv7Kr"
      },
      "source": [
        "#save all album uris as pickle\n",
        "with open('album_uris.pkl', 'wb') as f:\n",
        "    pickle.dump(album_uris, f)"
      ],
      "execution_count": null,
      "outputs": []
    },
    {
      "cell_type": "markdown",
      "metadata": {
        "id": "DSH9UxBTALqA"
      },
      "source": [
        "**GET ALBUM TRACK URIS and SONG DATA**\n"
      ]
    },
    {
      "cell_type": "code",
      "metadata": {
        "id": "UQMRp4O7vmeZ"
      },
      "source": [
        "def get_album_tracks(album_uri):\n",
        "    tracks= sp.album_tracks(album_uri, market='us')\n",
        "    return tracks\n"
      ],
      "execution_count": null,
      "outputs": []
    },
    {
      "cell_type": "code",
      "metadata": {
        "id": "2A6TbFQtuzil"
      },
      "source": [
        "def get_song_data(track):\n",
        "    song_data_dict ={}\n",
        "    song_data_dict['artist_name'] = album_tracks['items'][0]['artists'][0]['name']\n",
        "    song_data_dict['album_name'] = album_tracks['items'][0]['name']\n",
        "    song_data_dict['track_title'] = track['name']\n",
        "    song_data_dict['track_uri'] = track['uri']\n",
        "    song_data_dict['track_preview_url'] = track['preview_url']\n",
        "\n",
        "    return song_data_dict"
      ],
      "execution_count": null,
      "outputs": []
    },
    {
      "cell_type": "code",
      "metadata": {
        "id": "8S1zrOPyefej"
      },
      "source": [
        "#download data and save after 1000 albums \n",
        "song_data_list = []\n",
        "counter=0\n",
        "for album_uri in album_uris[10:]:\n",
        "\n",
        "    album_tracks= sp.album_tracks(album_uri, market='us')\n",
        "    for track in (album_tracks['items']):\n",
        "        song_data_list.append(get_song_data(track))\n",
        "\n",
        "    counter += 1\n",
        "    \n",
        "    if counter % 1000 == 0:\n",
        "        with open(f'song_data_{counter}.pkl', 'wb') as f:\n",
        "            pickle.dump(song_data_list, f)\n",
        "        print(f'saved{counter}')\n"
      ],
      "execution_count": null,
      "outputs": []
    },
    {
      "cell_type": "code",
      "metadata": {
        "id": "MHt-NJM0YOkb"
      },
      "source": [
        "pd.DataFrame(song_data_list)"
      ],
      "execution_count": null,
      "outputs": []
    },
    {
      "cell_type": "code",
      "metadata": {
        "id": "UG8bz6CeBseE"
      },
      "source": [
        "song_data_df = pd.DataFrame(song_data_list)\n",
        "song_data_df.to_csv('song_data.csv',index=False)"
      ],
      "execution_count": null,
      "outputs": []
    },
    {
      "cell_type": "markdown",
      "metadata": {
        "id": "qrA5xkg4C36u"
      },
      "source": [
        "DOWNLOAD  MP3 PREVIEW FILES"
      ]
    },
    {
      "cell_type": "code",
      "metadata": {
        "id": "c7cuI9LFNLKr"
      },
      "source": [
        "from google.colab import files\n",
        "uploaded = files.upload()"
      ],
      "execution_count": null,
      "outputs": []
    },
    {
      "cell_type": "code",
      "metadata": {
        "id": "Uhl2vVc9NjLu"
      },
      "source": [
        "with open('mp3_urls_dict.pkl', 'rb') as f:\n",
        "    mp3_urls_dict = pickle.load(f)"
      ],
      "execution_count": null,
      "outputs": []
    },
    {
      "cell_type": "code",
      "metadata": {
        "id": "8Tm7dRv0TLfD"
      },
      "source": [
        "my_headers = {\n",
        "'User-Agent': 'Mozilla/5.0 (Windows NT 10.0; Win64; x64) AppleWebKit/537.36 ' + ' (KHTML, like Gecko) Chrome/61.0.3163.100Safari/537.36'\n",
        "}"
      ],
      "execution_count": null,
      "outputs": []
    },
    {
      "cell_type": "code",
      "metadata": {
        "id": "gWMxg2RYblMP"
      },
      "source": [
        "\n",
        "save_path = 'Music/'\n",
        "def download_file(url,title):\n",
        "    local_filename = url.split('/')[-1]\n",
        "    name_of_file = title\n",
        "\n",
        "    completeName = os.path.join(save_path, name_of_file +'.mp3')   \n",
        "    # NOTE the stream=True parameter below\n",
        "    with requests.get(url, headers = my_headers, stream=True) as r:\n",
        "        r.raise_for_status()\n",
        "        with open(completeName +'.mp3', 'wb') as f:\n",
        "            for chunk in r.iter_content(chunk_size=8192): \n",
        "                # If you have chunk encoded response uncomment if\n",
        "                # and set chunk_size parameter to None.\n",
        "                #if chunk: \n",
        "                f.write(chunk)\n",
        "    return local_filename"
      ],
      "execution_count": null,
      "outputs": []
    },
    {
      "cell_type": "code",
      "metadata": {
        "id": "NkqoActrFZhh"
      },
      "source": [
        "my_headers = {\n",
        "'User-Agent': 'Mozilla/5.0 (Windows NT 10.0; Win64; x64) AppleWebKit/537.36 ' + ' (KHTML, like Gecko) Chrome/61.0.3163.100Safari/537.36'\n",
        "}\n",
        "\n",
        "for i,j in mp3_urls_dict.items():\n",
        "    download_file(j,i)\n",
        "    \n",
        "#Convert Music Folder into Zip\n",
        "!zip -r /content/Music.zip /content/Music"
      ],
      "execution_count": null,
      "outputs": []
    },
    {
      "cell_type": "code",
      "metadata": {
        "id": "0OFLK8ML0-v1"
      },
      "source": [
        "t1= time.perf_counter()\n",
        "with concurrent.futures.ThreadPoolExecutor() as executor:\n",
        "    results = executor.map(download_file,song_data_list)\n",
        "t2= time.perf_counter()\n",
        "print(f'Process took { t2- t1} seconds to complete.')"
      ],
      "execution_count": null,
      "outputs": []
    },
    {
      "cell_type": "code",
      "metadata": {
        "id": "qfuvXXsn0eRl"
      },
      "source": [
        "#a = []\n",
        "b = []\n",
        "for i in range(100,(len(track_uri_list)+100), 100):\n",
        "    b.append(i)"
      ],
      "execution_count": null,
      "outputs": []
    },
    {
      "cell_type": "code",
      "metadata": {
        "colab": {
          "background_save": true
        },
        "id": "KVEERTAs8rYW"
      },
      "source": [
        "audio_features =[]\n",
        "for i,j in zip(a,b):\n",
        "    audio_features.extend(sp.audio_features(tracks=track_uri_list[i:j]))"
      ],
      "execution_count": null,
      "outputs": []
    },
    {
      "cell_type": "code",
      "metadata": {
        "id": "fFQsbWNq9OsA"
      },
      "source": [
        "audio_features"
      ],
      "execution_count": null,
      "outputs": []
    },
    {
      "cell_type": "code",
      "metadata": {
        "id": "qMXXz5X32SAB"
      },
      "source": [
        "audio_features_ = pd.DataFrame(audio_features)"
      ],
      "execution_count": null,
      "outputs": []
    },
    {
      "cell_type": "code",
      "metadata": {
        "colab": {
          "background_save": true
        },
        "id": "l8NsVkE6w_vn"
      },
      "source": [
        "audio_features_df"
      ],
      "execution_count": null,
      "outputs": []
    }
  ]
}